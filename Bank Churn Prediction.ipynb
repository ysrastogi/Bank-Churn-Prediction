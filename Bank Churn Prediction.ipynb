{
 "cells": [
  {
   "cell_type": "code",
   "execution_count": 1,
   "id": "f812523d",
   "metadata": {},
   "outputs": [],
   "source": [
    "import pandas as pd\n",
    "import numpy as np\n",
    "import tensorflow as tf\n",
    "from matplotlib import pyplot as plt\n",
    "from tensorflow import keras"
   ]
  },
  {
   "cell_type": "code",
   "execution_count": 2,
   "id": "4da1f49a",
   "metadata": {},
   "outputs": [],
   "source": [
    "df = pd.read_csv('Churn_Modelling.csv')"
   ]
  },
  {
   "cell_type": "code",
   "execution_count": 3,
   "id": "57d5f663",
   "metadata": {},
   "outputs": [
    {
     "data": {
      "text/html": [
       "<div>\n",
       "<style scoped>\n",
       "    .dataframe tbody tr th:only-of-type {\n",
       "        vertical-align: middle;\n",
       "    }\n",
       "\n",
       "    .dataframe tbody tr th {\n",
       "        vertical-align: top;\n",
       "    }\n",
       "\n",
       "    .dataframe thead th {\n",
       "        text-align: right;\n",
       "    }\n",
       "</style>\n",
       "<table border=\"1\" class=\"dataframe\">\n",
       "  <thead>\n",
       "    <tr style=\"text-align: right;\">\n",
       "      <th></th>\n",
       "      <th>CustomerId</th>\n",
       "      <th>Surname</th>\n",
       "      <th>CreditScore</th>\n",
       "      <th>Geography</th>\n",
       "      <th>Gender</th>\n",
       "      <th>Age</th>\n",
       "      <th>Tenure</th>\n",
       "      <th>Balance</th>\n",
       "      <th>NumOfProducts</th>\n",
       "      <th>HasCrCard</th>\n",
       "      <th>IsActiveMember</th>\n",
       "      <th>EstimatedSalary</th>\n",
       "      <th>Exited</th>\n",
       "    </tr>\n",
       "  </thead>\n",
       "  <tbody>\n",
       "    <tr>\n",
       "      <th>0</th>\n",
       "      <td>15634602</td>\n",
       "      <td>Hargrave</td>\n",
       "      <td>619</td>\n",
       "      <td>France</td>\n",
       "      <td>Female</td>\n",
       "      <td>42</td>\n",
       "      <td>2</td>\n",
       "      <td>0.00</td>\n",
       "      <td>1</td>\n",
       "      <td>1</td>\n",
       "      <td>1</td>\n",
       "      <td>101348.88</td>\n",
       "      <td>1</td>\n",
       "    </tr>\n",
       "    <tr>\n",
       "      <th>1</th>\n",
       "      <td>15647311</td>\n",
       "      <td>Hill</td>\n",
       "      <td>608</td>\n",
       "      <td>Spain</td>\n",
       "      <td>Female</td>\n",
       "      <td>41</td>\n",
       "      <td>1</td>\n",
       "      <td>83807.86</td>\n",
       "      <td>1</td>\n",
       "      <td>0</td>\n",
       "      <td>1</td>\n",
       "      <td>112542.58</td>\n",
       "      <td>0</td>\n",
       "    </tr>\n",
       "    <tr>\n",
       "      <th>2</th>\n",
       "      <td>15619304</td>\n",
       "      <td>Onio</td>\n",
       "      <td>502</td>\n",
       "      <td>France</td>\n",
       "      <td>Female</td>\n",
       "      <td>42</td>\n",
       "      <td>8</td>\n",
       "      <td>159660.80</td>\n",
       "      <td>3</td>\n",
       "      <td>1</td>\n",
       "      <td>0</td>\n",
       "      <td>113931.57</td>\n",
       "      <td>1</td>\n",
       "    </tr>\n",
       "    <tr>\n",
       "      <th>3</th>\n",
       "      <td>15701354</td>\n",
       "      <td>Boni</td>\n",
       "      <td>699</td>\n",
       "      <td>France</td>\n",
       "      <td>Female</td>\n",
       "      <td>39</td>\n",
       "      <td>1</td>\n",
       "      <td>0.00</td>\n",
       "      <td>2</td>\n",
       "      <td>0</td>\n",
       "      <td>0</td>\n",
       "      <td>93826.63</td>\n",
       "      <td>0</td>\n",
       "    </tr>\n",
       "    <tr>\n",
       "      <th>4</th>\n",
       "      <td>15737888</td>\n",
       "      <td>Mitchell</td>\n",
       "      <td>850</td>\n",
       "      <td>Spain</td>\n",
       "      <td>Female</td>\n",
       "      <td>43</td>\n",
       "      <td>2</td>\n",
       "      <td>125510.82</td>\n",
       "      <td>1</td>\n",
       "      <td>1</td>\n",
       "      <td>1</td>\n",
       "      <td>79084.10</td>\n",
       "      <td>0</td>\n",
       "    </tr>\n",
       "  </tbody>\n",
       "</table>\n",
       "</div>"
      ],
      "text/plain": [
       "   CustomerId   Surname  CreditScore Geography  Gender  Age  Tenure  \\\n",
       "0    15634602  Hargrave          619    France  Female   42       2   \n",
       "1    15647311      Hill          608     Spain  Female   41       1   \n",
       "2    15619304      Onio          502    France  Female   42       8   \n",
       "3    15701354      Boni          699    France  Female   39       1   \n",
       "4    15737888  Mitchell          850     Spain  Female   43       2   \n",
       "\n",
       "     Balance  NumOfProducts  HasCrCard  IsActiveMember  EstimatedSalary  \\\n",
       "0       0.00              1          1               1        101348.88   \n",
       "1   83807.86              1          0               1        112542.58   \n",
       "2  159660.80              3          1               0        113931.57   \n",
       "3       0.00              2          0               0         93826.63   \n",
       "4  125510.82              1          1               1         79084.10   \n",
       "\n",
       "   Exited  \n",
       "0       1  \n",
       "1       0  \n",
       "2       1  \n",
       "3       0  \n",
       "4       0  "
      ]
     },
     "execution_count": 3,
     "metadata": {},
     "output_type": "execute_result"
    }
   ],
   "source": [
    "df.head()"
   ]
  },
  {
   "cell_type": "code",
   "execution_count": 4,
   "id": "efed32b6",
   "metadata": {},
   "outputs": [],
   "source": [
    "df = df.drop('CustomerId', axis = 'columns')"
   ]
  },
  {
   "cell_type": "code",
   "execution_count": 5,
   "id": "c600835f",
   "metadata": {},
   "outputs": [],
   "source": [
    "df = df.drop('Surname', axis = 'columns')"
   ]
  },
  {
   "cell_type": "code",
   "execution_count": 6,
   "id": "575afef2",
   "metadata": {},
   "outputs": [
    {
     "data": {
      "text/html": [
       "<div>\n",
       "<style scoped>\n",
       "    .dataframe tbody tr th:only-of-type {\n",
       "        vertical-align: middle;\n",
       "    }\n",
       "\n",
       "    .dataframe tbody tr th {\n",
       "        vertical-align: top;\n",
       "    }\n",
       "\n",
       "    .dataframe thead th {\n",
       "        text-align: right;\n",
       "    }\n",
       "</style>\n",
       "<table border=\"1\" class=\"dataframe\">\n",
       "  <thead>\n",
       "    <tr style=\"text-align: right;\">\n",
       "      <th></th>\n",
       "      <th>CreditScore</th>\n",
       "      <th>Geography</th>\n",
       "      <th>Gender</th>\n",
       "      <th>Age</th>\n",
       "      <th>Tenure</th>\n",
       "      <th>Balance</th>\n",
       "      <th>NumOfProducts</th>\n",
       "      <th>HasCrCard</th>\n",
       "      <th>IsActiveMember</th>\n",
       "      <th>EstimatedSalary</th>\n",
       "      <th>Exited</th>\n",
       "    </tr>\n",
       "  </thead>\n",
       "  <tbody>\n",
       "    <tr>\n",
       "      <th>5058</th>\n",
       "      <td>714</td>\n",
       "      <td>France</td>\n",
       "      <td>Male</td>\n",
       "      <td>37</td>\n",
       "      <td>9</td>\n",
       "      <td>148466.93</td>\n",
       "      <td>2</td>\n",
       "      <td>0</td>\n",
       "      <td>1</td>\n",
       "      <td>151280.96</td>\n",
       "      <td>0</td>\n",
       "    </tr>\n",
       "    <tr>\n",
       "      <th>9429</th>\n",
       "      <td>651</td>\n",
       "      <td>France</td>\n",
       "      <td>Female</td>\n",
       "      <td>32</td>\n",
       "      <td>8</td>\n",
       "      <td>144581.96</td>\n",
       "      <td>1</td>\n",
       "      <td>1</td>\n",
       "      <td>1</td>\n",
       "      <td>87609.50</td>\n",
       "      <td>0</td>\n",
       "    </tr>\n",
       "    <tr>\n",
       "      <th>1385</th>\n",
       "      <td>716</td>\n",
       "      <td>France</td>\n",
       "      <td>Female</td>\n",
       "      <td>35</td>\n",
       "      <td>8</td>\n",
       "      <td>112808.18</td>\n",
       "      <td>1</td>\n",
       "      <td>0</td>\n",
       "      <td>1</td>\n",
       "      <td>17848.30</td>\n",
       "      <td>0</td>\n",
       "    </tr>\n",
       "    <tr>\n",
       "      <th>1027</th>\n",
       "      <td>737</td>\n",
       "      <td>Germany</td>\n",
       "      <td>Male</td>\n",
       "      <td>35</td>\n",
       "      <td>0</td>\n",
       "      <td>133377.80</td>\n",
       "      <td>1</td>\n",
       "      <td>0</td>\n",
       "      <td>1</td>\n",
       "      <td>64050.19</td>\n",
       "      <td>0</td>\n",
       "    </tr>\n",
       "    <tr>\n",
       "      <th>9821</th>\n",
       "      <td>652</td>\n",
       "      <td>Spain</td>\n",
       "      <td>Male</td>\n",
       "      <td>28</td>\n",
       "      <td>8</td>\n",
       "      <td>156823.70</td>\n",
       "      <td>2</td>\n",
       "      <td>1</td>\n",
       "      <td>0</td>\n",
       "      <td>198251.52</td>\n",
       "      <td>0</td>\n",
       "    </tr>\n",
       "  </tbody>\n",
       "</table>\n",
       "</div>"
      ],
      "text/plain": [
       "      CreditScore Geography  Gender  Age  Tenure    Balance  NumOfProducts  \\\n",
       "5058          714    France    Male   37       9  148466.93              2   \n",
       "9429          651    France  Female   32       8  144581.96              1   \n",
       "1385          716    France  Female   35       8  112808.18              1   \n",
       "1027          737   Germany    Male   35       0  133377.80              1   \n",
       "9821          652     Spain    Male   28       8  156823.70              2   \n",
       "\n",
       "      HasCrCard  IsActiveMember  EstimatedSalary  Exited  \n",
       "5058          0               1        151280.96       0  \n",
       "9429          1               1         87609.50       0  \n",
       "1385          0               1         17848.30       0  \n",
       "1027          0               1         64050.19       0  \n",
       "9821          1               0        198251.52       0  "
      ]
     },
     "execution_count": 6,
     "metadata": {},
     "output_type": "execute_result"
    }
   ],
   "source": [
    "df.sample(5)"
   ]
  },
  {
   "cell_type": "code",
   "execution_count": 7,
   "id": "538768c4",
   "metadata": {},
   "outputs": [
    {
     "data": {
      "text/plain": [
       "CreditScore          int64\n",
       "Geography           object\n",
       "Gender              object\n",
       "Age                  int64\n",
       "Tenure               int64\n",
       "Balance            float64\n",
       "NumOfProducts        int64\n",
       "HasCrCard            int64\n",
       "IsActiveMember       int64\n",
       "EstimatedSalary    float64\n",
       "Exited               int64\n",
       "dtype: object"
      ]
     },
     "execution_count": 7,
     "metadata": {},
     "output_type": "execute_result"
    }
   ],
   "source": [
    "df.dtypes"
   ]
  },
  {
   "cell_type": "code",
   "execution_count": 8,
   "id": "99fbe430",
   "metadata": {},
   "outputs": [
    {
     "data": {
      "text/plain": [
       "0       2\n",
       "2       8\n",
       "5       8\n",
       "7       4\n",
       "16      1\n",
       "       ..\n",
       "9981    3\n",
       "9982    7\n",
       "9991    4\n",
       "9997    7\n",
       "9998    3\n",
       "Name: Tenure, Length: 2037, dtype: int64"
      ]
     },
     "execution_count": 8,
     "metadata": {},
     "output_type": "execute_result"
    }
   ],
   "source": [
    "tenure_exited_yes = df[df.Exited == 1].Tenure\n",
    "tenure_exited_no = df[df.Exited == 0].Tenure\n",
    "tenure_exited_yes"
   ]
  },
  {
   "cell_type": "code",
   "execution_count": 9,
   "id": "5ebf559e",
   "metadata": {},
   "outputs": [
    {
     "data": {
      "text/plain": [
       "<matplotlib.legend.Legend at 0x23eb7fa9f10>"
      ]
     },
     "execution_count": 9,
     "metadata": {},
     "output_type": "execute_result"
    },
    {
     "data": {
      "image/png": "[encoded data removed]",
      "text/plain": [
       "<Figure size 432x288 with 1 Axes>"
      ]
     },
     "metadata": {
      "needs_background": "light"
     },
     "output_type": "display_data"
    }
   ],
   "source": [
    "plt.xlabel(\"Tenure\")\n",
    "plt.ylabel(\"No. of customers\")\n",
    "plt.hist([tenure_exited_no, tenure_exited_yes], color = ['green', 'red'], label=['exited = No', 'exited = Yes'])\n",
    "plt.legend()"
   ]
  },
  {
   "cell_type": "code",
   "execution_count": 10,
   "id": "838e901a",
   "metadata": {},
   "outputs": [
    {
     "data": {
      "text/plain": [
       "<matplotlib.legend.Legend at 0x23eba172fa0>"
      ]
     },
     "execution_count": 10,
     "metadata": {},
     "output_type": "execute_result"
    },
    {
     "data": {
      "image/png": "[encoded data removed]",
      "text/plain": [
       "<Figure size 432x288 with 1 Axes>"
      ]
     },
     "metadata": {
      "needs_background": "light"
     },
     "output_type": "display_data"
    }
   ],
   "source": [
    "age_exited_yes = df[df.Exited == 1].Age\n",
    "age_exited_no = df[df.Exited == 0].Age\n",
    "plt.xlabel(\"Age\")\n",
    "plt.ylabel(\"No. of customers\")\n",
    "plt.hist([age_exited_no, age_exited_yes], color = ['green', 'red'], label=['exited = No', 'exited = Yes'])\n",
    "plt.legend()\n"
   ]
  },
  {
   "cell_type": "code",
   "execution_count": 11,
   "id": "d6dbefca",
   "metadata": {},
   "outputs": [
    {
     "data": {
      "text/plain": [
       "<matplotlib.legend.Legend at 0x23eba0df8e0>"
      ]
     },
     "execution_count": 11,
     "metadata": {},
     "output_type": "execute_result"
    },
    {
     "data": {
      "image/png": "[encoded data removed]",
      "text/plain": [
       "<Figure size 432x288 with 1 Axes>"
      ]
     },
     "metadata": {
      "needs_background": "light"
     },
     "output_type": "display_data"
    }
   ],
   "source": [
    "balance_exited_yes = df[df.Exited == 1].Balance\n",
    "balance_exited_no = df[df.Exited == 0].Balance\n",
    "plt.xlabel(\"Balance\")\n",
    "plt.ylabel(\"No. of customers\")\n",
    "plt.hist([balance_exited_no, balance_exited_yes], color = ['green', 'red'], label=['exited = No', 'exited = Yes'])\n",
    "plt.legend()\n"
   ]
  },
  {
   "cell_type": "code",
   "execution_count": 12,
   "id": "f05ae04a",
   "metadata": {},
   "outputs": [
    {
     "data": {
      "text/plain": [
       "1       608\n",
       "3       699\n",
       "4       850\n",
       "6       822\n",
       "8       501\n",
       "       ... \n",
       "9993    644\n",
       "9994    800\n",
       "9995    771\n",
       "9996    516\n",
       "9999    792\n",
       "Name: CreditScore, Length: 7963, dtype: int64"
      ]
     },
     "execution_count": 12,
     "metadata": {},
     "output_type": "execute_result"
    }
   ],
   "source": [
    "credit_exited_yes = df[df.Exited == 1].CreditScore\n",
    "credit_exited_no = df[df.Exited == 0].CreditScore\n",
    "credit_exited_no\n",
    "\n"
   ]
  },
  {
   "cell_type": "code",
   "execution_count": 13,
   "id": "71d0e1ff",
   "metadata": {},
   "outputs": [
    {
     "data": {
      "text/plain": [
       "<matplotlib.legend.Legend at 0x23eba1196a0>"
      ]
     },
     "execution_count": 13,
     "metadata": {},
     "output_type": "execute_result"
    },
    {
     "data": {
      "image/png": "[encoded data removed]",
      "text/plain": [
       "<Figure size 432x288 with 1 Axes>"
      ]
     },
     "metadata": {
      "needs_background": "light"
     },
     "output_type": "display_data"
    }
   ],
   "source": [
    "plt.xlabel(\"Credit Score\")\n",
    "plt.ylabel(\"No. of customers\")\n",
    "plt.hist([credit_exited_no, credit_exited_yes], color = ['green', 'red'], label=['exited = No', 'exited = Yes'])\n",
    "plt.legend()"
   ]
  },
  {
   "cell_type": "code",
   "execution_count": 14,
   "id": "af748f34",
   "metadata": {},
   "outputs": [
    {
     "data": {
      "text/plain": [
       "<matplotlib.legend.Legend at 0x23eba3393a0>"
      ]
     },
     "execution_count": 14,
     "metadata": {},
     "output_type": "execute_result"
    },
    {
     "data": {
      "image/png": "[encoded data removed]",
      "text/plain": [
       "<Figure size 432x288 with 1 Axes>"
      ]
     },
     "metadata": {
      "needs_background": "light"
     },
     "output_type": "display_data"
    }
   ],
   "source": [
    "geography_exited_yes = df[df.Exited == 1].Geography\n",
    "geography_exited_no = df[df.Exited == 0].Geography\n",
    "plt.xlabel(\"Geography\")\n",
    "plt.ylabel(\"No. of customers\")\n",
    "plt.hist([geography_exited_no, geography_exited_yes], color = ['green', 'red'], label=['exited = No', 'exited = Yes'])\n",
    "plt.legend()\n"
   ]
  },
  {
   "cell_type": "code",
   "execution_count": null,
   "id": "a0cedfc6",
   "metadata": {},
   "outputs": [],
   "source": []
  },
  {
   "cell_type": "code",
   "execution_count": 15,
   "id": "3322dda4",
   "metadata": {},
   "outputs": [
    {
     "data": {
      "text/plain": [
       "<matplotlib.legend.Legend at 0x23eba3d4be0>"
      ]
     },
     "execution_count": 15,
     "metadata": {},
     "output_type": "execute_result"
    },
    {
     "data": {
      "image/png": "[encoded data removed]",
      "text/plain": [
       "<Figure size 432x288 with 1 Axes>"
      ]
     },
     "metadata": {
      "needs_background": "light"
     },
     "output_type": "display_data"
    }
   ],
   "source": [
    "gender_exited_yes = df[df.Exited == 1].Gender\n",
    "gender_exited_no = df[df.Exited == 0].Gender\n",
    "plt.xlabel(\"Gender\")\n",
    "plt.ylabel(\"No. of customers\")\n",
    "plt.hist([gender_exited_no, gender_exited_yes], color = ['green', 'red'], label=['exited = No', 'exited = Yes'])\n",
    "plt.legend()\n"
   ]
  },
  {
   "cell_type": "code",
   "execution_count": 16,
   "id": "717e9093",
   "metadata": {},
   "outputs": [
    {
     "data": {
      "text/plain": [
       "<matplotlib.legend.Legend at 0x23eba4443a0>"
      ]
     },
     "execution_count": 16,
     "metadata": {},
     "output_type": "execute_result"
    },
    {
     "data": {
      "image/png": "[encoded data removed]",
      "text/plain": [
       "<Figure size 432x288 with 1 Axes>"
      ]
     },
     "metadata": {
      "needs_background": "light"
     },
     "output_type": "display_data"
    }
   ],
   "source": [
    "salary_exited_yes = df[df.Exited == 1].EstimatedSalary\n",
    "salary_exited_no = df[df.Exited == 0].EstimatedSalary\n",
    "plt.xlabel(\"Salary\")\n",
    "plt.ylabel(\"No. of customers\")\n",
    "plt.hist([salary_exited_no, salary_exited_yes], color = ['green', 'red'], label=['exited = No', 'exited = Yes'])\n",
    "plt.legend()\n"
   ]
  },
  {
   "cell_type": "code",
   "execution_count": 17,
   "id": "0c892691",
   "metadata": {},
   "outputs": [],
   "source": [
    "df.replace({'Male': 1, 'Female': 0},inplace =True)"
   ]
  },
  {
   "cell_type": "code",
   "execution_count": 18,
   "id": "ab145f48",
   "metadata": {},
   "outputs": [
    {
     "data": {
      "text/html": [
       "<div>\n",
       "<style scoped>\n",
       "    .dataframe tbody tr th:only-of-type {\n",
       "        vertical-align: middle;\n",
       "    }\n",
       "\n",
       "    .dataframe tbody tr th {\n",
       "        vertical-align: top;\n",
       "    }\n",
       "\n",
       "    .dataframe thead th {\n",
       "        text-align: right;\n",
       "    }\n",
       "</style>\n",
       "<table border=\"1\" class=\"dataframe\">\n",
       "  <thead>\n",
       "    <tr style=\"text-align: right;\">\n",
       "      <th></th>\n",
       "      <th>CreditScore</th>\n",
       "      <th>Geography</th>\n",
       "      <th>Gender</th>\n",
       "      <th>Age</th>\n",
       "      <th>Tenure</th>\n",
       "      <th>Balance</th>\n",
       "      <th>NumOfProducts</th>\n",
       "      <th>HasCrCard</th>\n",
       "      <th>IsActiveMember</th>\n",
       "      <th>EstimatedSalary</th>\n",
       "      <th>Exited</th>\n",
       "    </tr>\n",
       "  </thead>\n",
       "  <tbody>\n",
       "    <tr>\n",
       "      <th>9746</th>\n",
       "      <td>490</td>\n",
       "      <td>Germany</td>\n",
       "      <td>0</td>\n",
       "      <td>41</td>\n",
       "      <td>0</td>\n",
       "      <td>139659.04</td>\n",
       "      <td>1</td>\n",
       "      <td>1</td>\n",
       "      <td>1</td>\n",
       "      <td>176254.12</td>\n",
       "      <td>0</td>\n",
       "    </tr>\n",
       "    <tr>\n",
       "      <th>3208</th>\n",
       "      <td>607</td>\n",
       "      <td>Germany</td>\n",
       "      <td>1</td>\n",
       "      <td>36</td>\n",
       "      <td>8</td>\n",
       "      <td>143421.74</td>\n",
       "      <td>1</td>\n",
       "      <td>1</td>\n",
       "      <td>0</td>\n",
       "      <td>97879.02</td>\n",
       "      <td>0</td>\n",
       "    </tr>\n",
       "    <tr>\n",
       "      <th>2163</th>\n",
       "      <td>605</td>\n",
       "      <td>France</td>\n",
       "      <td>1</td>\n",
       "      <td>35</td>\n",
       "      <td>6</td>\n",
       "      <td>0.00</td>\n",
       "      <td>2</td>\n",
       "      <td>1</td>\n",
       "      <td>1</td>\n",
       "      <td>45206.57</td>\n",
       "      <td>0</td>\n",
       "    </tr>\n",
       "    <tr>\n",
       "      <th>1090</th>\n",
       "      <td>539</td>\n",
       "      <td>Germany</td>\n",
       "      <td>0</td>\n",
       "      <td>34</td>\n",
       "      <td>4</td>\n",
       "      <td>91622.42</td>\n",
       "      <td>1</td>\n",
       "      <td>1</td>\n",
       "      <td>1</td>\n",
       "      <td>136603.42</td>\n",
       "      <td>0</td>\n",
       "    </tr>\n",
       "    <tr>\n",
       "      <th>8938</th>\n",
       "      <td>693</td>\n",
       "      <td>Spain</td>\n",
       "      <td>1</td>\n",
       "      <td>47</td>\n",
       "      <td>8</td>\n",
       "      <td>107604.66</td>\n",
       "      <td>1</td>\n",
       "      <td>1</td>\n",
       "      <td>1</td>\n",
       "      <td>80149.27</td>\n",
       "      <td>0</td>\n",
       "    </tr>\n",
       "  </tbody>\n",
       "</table>\n",
       "</div>"
      ],
      "text/plain": [
       "      CreditScore Geography  Gender  Age  Tenure    Balance  NumOfProducts  \\\n",
       "9746          490   Germany       0   41       0  139659.04              1   \n",
       "3208          607   Germany       1   36       8  143421.74              1   \n",
       "2163          605    France       1   35       6       0.00              2   \n",
       "1090          539   Germany       0   34       4   91622.42              1   \n",
       "8938          693     Spain       1   47       8  107604.66              1   \n",
       "\n",
       "      HasCrCard  IsActiveMember  EstimatedSalary  Exited  \n",
       "9746          1               1        176254.12       0  \n",
       "3208          1               0         97879.02       0  \n",
       "2163          1               1         45206.57       0  \n",
       "1090          1               1        136603.42       0  \n",
       "8938          1               1         80149.27       0  "
      ]
     },
     "execution_count": 18,
     "metadata": {},
     "output_type": "execute_result"
    }
   ],
   "source": [
    "df.sample(5)"
   ]
  },
  {
   "cell_type": "code",
   "execution_count": 19,
   "id": "aec46594",
   "metadata": {},
   "outputs": [
    {
     "data": {
      "text/plain": [
       "Index(['CreditScore', 'Gender', 'Age', 'Tenure', 'Balance', 'NumOfProducts',\n",
       "       'HasCrCard', 'IsActiveMember', 'EstimatedSalary', 'Exited',\n",
       "       'Geography_France', 'Geography_Germany', 'Geography_Spain'],\n",
       "      dtype='object')"
      ]
     },
     "execution_count": 19,
     "metadata": {},
     "output_type": "execute_result"
    }
   ],
   "source": [
    "df1 = pd.get_dummies(data = df, columns = ['Geography'])\n",
    "df1.columns"
   ]
  },
  {
   "cell_type": "code",
   "execution_count": 20,
   "id": "61e5bd2a",
   "metadata": {},
   "outputs": [],
   "source": [
    "col_to_scale = ['CreditScore', 'Age', 'Tenure', 'Balance', 'NumOfProducts', 'EstimatedSalary']\n",
    "from sklearn.preprocessing import MinMaxScaler\n",
    "scaler = MinMaxScaler()\n",
    "df1[col_to_scale] = scaler.fit_transform(df1[col_to_scale])"
   ]
  },
  {
   "cell_type": "code",
   "execution_count": 21,
   "id": "9bfeaa56",
   "metadata": {},
   "outputs": [
    {
     "data": {
      "text/html": [
       "<div>\n",
       "<style scoped>\n",
       "    .dataframe tbody tr th:only-of-type {\n",
       "        vertical-align: middle;\n",
       "    }\n",
       "\n",
       "    .dataframe tbody tr th {\n",
       "        vertical-align: top;\n",
       "    }\n",
       "\n",
       "    .dataframe thead th {\n",
       "        text-align: right;\n",
       "    }\n",
       "</style>\n",
       "<table border=\"1\" class=\"dataframe\">\n",
       "  <thead>\n",
       "    <tr style=\"text-align: right;\">\n",
       "      <th></th>\n",
       "      <th>CreditScore</th>\n",
       "      <th>Gender</th>\n",
       "      <th>Age</th>\n",
       "      <th>Tenure</th>\n",
       "      <th>Balance</th>\n",
       "      <th>NumOfProducts</th>\n",
       "      <th>HasCrCard</th>\n",
       "      <th>IsActiveMember</th>\n",
       "      <th>EstimatedSalary</th>\n",
       "      <th>Exited</th>\n",
       "      <th>Geography_France</th>\n",
       "      <th>Geography_Germany</th>\n",
       "      <th>Geography_Spain</th>\n",
       "    </tr>\n",
       "  </thead>\n",
       "  <tbody>\n",
       "    <tr>\n",
       "      <th>4691</th>\n",
       "      <td>0.544</td>\n",
       "      <td>1</td>\n",
       "      <td>0.256757</td>\n",
       "      <td>0.4</td>\n",
       "      <td>0.000000</td>\n",
       "      <td>0.333333</td>\n",
       "      <td>1</td>\n",
       "      <td>0</td>\n",
       "      <td>0.022242</td>\n",
       "      <td>0</td>\n",
       "      <td>0</td>\n",
       "      <td>0</td>\n",
       "      <td>1</td>\n",
       "    </tr>\n",
       "    <tr>\n",
       "      <th>2149</th>\n",
       "      <td>0.972</td>\n",
       "      <td>1</td>\n",
       "      <td>0.527027</td>\n",
       "      <td>0.4</td>\n",
       "      <td>0.403539</td>\n",
       "      <td>0.000000</td>\n",
       "      <td>1</td>\n",
       "      <td>0</td>\n",
       "      <td>0.185668</td>\n",
       "      <td>1</td>\n",
       "      <td>0</td>\n",
       "      <td>0</td>\n",
       "      <td>1</td>\n",
       "    </tr>\n",
       "    <tr>\n",
       "      <th>534</th>\n",
       "      <td>0.400</td>\n",
       "      <td>0</td>\n",
       "      <td>0.297297</td>\n",
       "      <td>0.7</td>\n",
       "      <td>0.455782</td>\n",
       "      <td>0.000000</td>\n",
       "      <td>1</td>\n",
       "      <td>0</td>\n",
       "      <td>0.270063</td>\n",
       "      <td>0</td>\n",
       "      <td>1</td>\n",
       "      <td>0</td>\n",
       "      <td>0</td>\n",
       "    </tr>\n",
       "    <tr>\n",
       "      <th>3433</th>\n",
       "      <td>0.474</td>\n",
       "      <td>0</td>\n",
       "      <td>0.256757</td>\n",
       "      <td>0.6</td>\n",
       "      <td>0.416161</td>\n",
       "      <td>0.000000</td>\n",
       "      <td>1</td>\n",
       "      <td>0</td>\n",
       "      <td>0.960164</td>\n",
       "      <td>0</td>\n",
       "      <td>0</td>\n",
       "      <td>1</td>\n",
       "      <td>0</td>\n",
       "    </tr>\n",
       "    <tr>\n",
       "      <th>9294</th>\n",
       "      <td>0.726</td>\n",
       "      <td>1</td>\n",
       "      <td>0.243243</td>\n",
       "      <td>0.8</td>\n",
       "      <td>0.533640</td>\n",
       "      <td>0.000000</td>\n",
       "      <td>1</td>\n",
       "      <td>1</td>\n",
       "      <td>0.716339</td>\n",
       "      <td>0</td>\n",
       "      <td>1</td>\n",
       "      <td>0</td>\n",
       "      <td>0</td>\n",
       "    </tr>\n",
       "    <tr>\n",
       "      <th>8729</th>\n",
       "      <td>0.592</td>\n",
       "      <td>1</td>\n",
       "      <td>0.405405</td>\n",
       "      <td>0.8</td>\n",
       "      <td>0.673673</td>\n",
       "      <td>0.333333</td>\n",
       "      <td>1</td>\n",
       "      <td>1</td>\n",
       "      <td>0.878314</td>\n",
       "      <td>0</td>\n",
       "      <td>0</td>\n",
       "      <td>1</td>\n",
       "      <td>0</td>\n",
       "    </tr>\n",
       "    <tr>\n",
       "      <th>6426</th>\n",
       "      <td>0.786</td>\n",
       "      <td>1</td>\n",
       "      <td>0.364865</td>\n",
       "      <td>0.7</td>\n",
       "      <td>0.627076</td>\n",
       "      <td>0.000000</td>\n",
       "      <td>1</td>\n",
       "      <td>0</td>\n",
       "      <td>0.627124</td>\n",
       "      <td>0</td>\n",
       "      <td>0</td>\n",
       "      <td>0</td>\n",
       "      <td>1</td>\n",
       "    </tr>\n",
       "    <tr>\n",
       "      <th>3254</th>\n",
       "      <td>0.404</td>\n",
       "      <td>1</td>\n",
       "      <td>0.432432</td>\n",
       "      <td>0.4</td>\n",
       "      <td>0.482967</td>\n",
       "      <td>0.000000</td>\n",
       "      <td>1</td>\n",
       "      <td>0</td>\n",
       "      <td>0.587524</td>\n",
       "      <td>1</td>\n",
       "      <td>0</td>\n",
       "      <td>1</td>\n",
       "      <td>0</td>\n",
       "    </tr>\n",
       "    <tr>\n",
       "      <th>9401</th>\n",
       "      <td>0.710</td>\n",
       "      <td>0</td>\n",
       "      <td>0.378378</td>\n",
       "      <td>0.4</td>\n",
       "      <td>0.460418</td>\n",
       "      <td>0.000000</td>\n",
       "      <td>0</td>\n",
       "      <td>0</td>\n",
       "      <td>0.382703</td>\n",
       "      <td>1</td>\n",
       "      <td>0</td>\n",
       "      <td>1</td>\n",
       "      <td>0</td>\n",
       "    </tr>\n",
       "    <tr>\n",
       "      <th>7252</th>\n",
       "      <td>0.434</td>\n",
       "      <td>1</td>\n",
       "      <td>0.297297</td>\n",
       "      <td>0.7</td>\n",
       "      <td>0.487310</td>\n",
       "      <td>0.000000</td>\n",
       "      <td>1</td>\n",
       "      <td>0</td>\n",
       "      <td>0.692772</td>\n",
       "      <td>0</td>\n",
       "      <td>0</td>\n",
       "      <td>1</td>\n",
       "      <td>0</td>\n",
       "    </tr>\n",
       "  </tbody>\n",
       "</table>\n",
       "</div>"
      ],
      "text/plain": [
       "      CreditScore  Gender       Age  Tenure   Balance  NumOfProducts  \\\n",
       "4691        0.544       1  0.256757     0.4  0.000000       0.333333   \n",
       "2149        0.972       1  0.527027     0.4  0.403539       0.000000   \n",
       "534         0.400       0  0.297297     0.7  0.455782       0.000000   \n",
       "3433        0.474       0  0.256757     0.6  0.416161       0.000000   \n",
       "9294        0.726       1  0.243243     0.8  0.533640       0.000000   \n",
       "8729        0.592       1  0.405405     0.8  0.673673       0.333333   \n",
       "6426        0.786       1  0.364865     0.7  0.627076       0.000000   \n",
       "3254        0.404       1  0.432432     0.4  0.482967       0.000000   \n",
       "9401        0.710       0  0.378378     0.4  0.460418       0.000000   \n",
       "7252        0.434       1  0.297297     0.7  0.487310       0.000000   \n",
       "\n",
       "      HasCrCard  IsActiveMember  EstimatedSalary  Exited  Geography_France  \\\n",
       "4691          1               0         0.022242       0                 0   \n",
       "2149          1               0         0.185668       1                 0   \n",
       "534           1               0         0.270063       0                 1   \n",
       "3433          1               0         0.960164       0                 0   \n",
       "9294          1               1         0.716339       0                 1   \n",
       "8729          1               1         0.878314       0                 0   \n",
       "6426          1               0         0.627124       0                 0   \n",
       "3254          1               0         0.587524       1                 0   \n",
       "9401          0               0         0.382703       1                 0   \n",
       "7252          1               0         0.692772       0                 0   \n",
       "\n",
       "      Geography_Germany  Geography_Spain  \n",
       "4691                  0                1  \n",
       "2149                  0                1  \n",
       "534                   0                0  \n",
       "3433                  1                0  \n",
       "9294                  0                0  \n",
       "8729                  1                0  \n",
       "6426                  0                1  \n",
       "3254                  1                0  \n",
       "9401                  1                0  \n",
       "7252                  1                0  "
      ]
     },
     "execution_count": 21,
     "metadata": {},
     "output_type": "execute_result"
    }
   ],
   "source": [
    "df1.sample(10)"
   ]
  },
  {
   "cell_type": "code",
   "execution_count": 22,
   "id": "18d6a076",
   "metadata": {},
   "outputs": [],
   "source": [
    "X = df1.drop('Exited', axis = 'columns')\n",
    "Y = df1['Exited']"
   ]
  },
  {
   "cell_type": "code",
   "execution_count": 23,
   "id": "a7c62269",
   "metadata": {},
   "outputs": [],
   "source": [
    "from sklearn.model_selection import train_test_split\n",
    "X_train, X_test, Y_train, Y_test = train_test_split(X,Y, test_size = 0.2, random_state = 5)"
   ]
  },
  {
   "cell_type": "code",
   "execution_count": 24,
   "id": "f6b8acbf",
   "metadata": {},
   "outputs": [
    {
     "name": "stdout",
     "output_type": "stream",
     "text": [
      "Epoch 1/100\n",
      "250/250 [==============================] - 6s 7ms/step - loss: 0.1638 - accuracy: 0.7860\n",
      "Epoch 2/100\n",
      "250/250 [==============================] - 2s 7ms/step - loss: 0.1493 - accuracy: 0.7983\n",
      "Epoch 3/100\n",
      "250/250 [==============================] - 2s 7ms/step - loss: 0.1452 - accuracy: 0.8040\n",
      "Epoch 4/100\n",
      "250/250 [==============================] - 2s 7ms/step - loss: 0.1418 - accuracy: 0.8073\n",
      "Epoch 5/100\n",
      "250/250 [==============================] - 2s 7ms/step - loss: 0.1389 - accuracy: 0.8126\n",
      "Epoch 6/100\n",
      "250/250 [==============================] - 2s 6ms/step - loss: 0.1368 - accuracy: 0.8150\n",
      "Epoch 7/100\n",
      "250/250 [==============================] - 2s 6ms/step - loss: 0.1347 - accuracy: 0.8183\n",
      "Epoch 8/100\n",
      "250/250 [==============================] - 2s 6ms/step - loss: 0.1330 - accuracy: 0.8190\n",
      "Epoch 9/100\n",
      "250/250 [==============================] - 2s 7ms/step - loss: 0.1308 - accuracy: 0.8213\n",
      "Epoch 10/100\n",
      "250/250 [==============================] - 2s 7ms/step - loss: 0.1290 - accuracy: 0.8226\n",
      "Epoch 11/100\n",
      "250/250 [==============================] - 2s 7ms/step - loss: 0.1271 - accuracy: 0.8266\n",
      "Epoch 12/100\n",
      "250/250 [==============================] - 2s 7ms/step - loss: 0.1248 - accuracy: 0.8313\n",
      "Epoch 13/100\n",
      "250/250 [==============================] - 2s 7ms/step - loss: 0.1229 - accuracy: 0.8331\n",
      "Epoch 14/100\n",
      "250/250 [==============================] - 2s 6ms/step - loss: 0.1210 - accuracy: 0.8386\n",
      "Epoch 15/100\n",
      "250/250 [==============================] - 2s 7ms/step - loss: 0.1196 - accuracy: 0.8397\n",
      "Epoch 16/100\n",
      "250/250 [==============================] - 2s 6ms/step - loss: 0.1180 - accuracy: 0.8409\n",
      "Epoch 17/100\n",
      "250/250 [==============================] - 1s 6ms/step - loss: 0.1166 - accuracy: 0.8450\n",
      "Epoch 18/100\n",
      "250/250 [==============================] - 2s 6ms/step - loss: 0.1156 - accuracy: 0.8449\n",
      "Epoch 19/100\n",
      "250/250 [==============================] - 2s 6ms/step - loss: 0.1145 - accuracy: 0.8478\n",
      "Epoch 20/100\n",
      "250/250 [==============================] - 2s 6ms/step - loss: 0.1137 - accuracy: 0.8470\n",
      "Epoch 21/100\n",
      "250/250 [==============================] - 2s 6ms/step - loss: 0.1126 - accuracy: 0.8506\n",
      "Epoch 22/100\n",
      "250/250 [==============================] - 2s 7ms/step - loss: 0.1118 - accuracy: 0.8508\n",
      "Epoch 23/100\n",
      "250/250 [==============================] - 2s 6ms/step - loss: 0.1111 - accuracy: 0.8521\n",
      "Epoch 24/100\n",
      "250/250 [==============================] - 2s 6ms/step - loss: 0.1106 - accuracy: 0.8525\n",
      "Epoch 25/100\n",
      "250/250 [==============================] - 2s 6ms/step - loss: 0.1100 - accuracy: 0.8539\n",
      "Epoch 26/100\n",
      "250/250 [==============================] - 2s 7ms/step - loss: 0.1096 - accuracy: 0.8546\n",
      "Epoch 27/100\n",
      "250/250 [==============================] - 2s 6ms/step - loss: 0.1090 - accuracy: 0.8551\n",
      "Epoch 28/100\n",
      "250/250 [==============================] - 2s 6ms/step - loss: 0.1087 - accuracy: 0.8562\n",
      "Epoch 29/100\n",
      "250/250 [==============================] - 2s 7ms/step - loss: 0.1083 - accuracy: 0.8549\n",
      "Epoch 30/100\n",
      "250/250 [==============================] - 2s 7ms/step - loss: 0.1078 - accuracy: 0.8577\n",
      "Epoch 31/100\n",
      "250/250 [==============================] - 2s 6ms/step - loss: 0.1076 - accuracy: 0.8554\n",
      "Epoch 32/100\n",
      "250/250 [==============================] - 2s 6ms/step - loss: 0.1075 - accuracy: 0.8584\n",
      "Epoch 33/100\n",
      "250/250 [==============================] - 1s 5ms/step - loss: 0.1070 - accuracy: 0.8583\n",
      "Epoch 34/100\n",
      "250/250 [==============================] - 1s 5ms/step - loss: 0.1069 - accuracy: 0.8579\n",
      "Epoch 35/100\n",
      "250/250 [==============================] - 1s 5ms/step - loss: 0.1067 - accuracy: 0.8572\n",
      "Epoch 36/100\n",
      "250/250 [==============================] - 1s 6ms/step - loss: 0.1062 - accuracy: 0.8586\n",
      "Epoch 37/100\n",
      "250/250 [==============================] - 2s 6ms/step - loss: 0.1061 - accuracy: 0.8609\n",
      "Epoch 38/100\n",
      "250/250 [==============================] - 2s 7ms/step - loss: 0.1059 - accuracy: 0.8564\n",
      "Epoch 39/100\n",
      "250/250 [==============================] - 2s 7ms/step - loss: 0.1057 - accuracy: 0.8569\n",
      "Epoch 40/100\n",
      "250/250 [==============================] - 2s 6ms/step - loss: 0.1057 - accuracy: 0.8581\n",
      "Epoch 41/100\n",
      "250/250 [==============================] - 1s 6ms/step - loss: 0.1054 - accuracy: 0.8600\n",
      "Epoch 42/100\n",
      "250/250 [==============================] - 2s 6ms/step - loss: 0.1052 - accuracy: 0.8581\n",
      "Epoch 43/100\n",
      "250/250 [==============================] - 2s 6ms/step - loss: 0.1051 - accuracy: 0.8594\n",
      "Epoch 44/100\n",
      "250/250 [==============================] - 1s 6ms/step - loss: 0.1051 - accuracy: 0.8570\n",
      "Epoch 45/100\n",
      "250/250 [==============================] - 1s 5ms/step - loss: 0.1048 - accuracy: 0.8589\n",
      "Epoch 46/100\n",
      "250/250 [==============================] - 1s 5ms/step - loss: 0.1046 - accuracy: 0.8609\n",
      "Epoch 47/100\n",
      "250/250 [==============================] - 1s 5ms/step - loss: 0.1044 - accuracy: 0.8636\n",
      "Epoch 48/100\n",
      "250/250 [==============================] - 1s 5ms/step - loss: 0.1043 - accuracy: 0.8611\n",
      "Epoch 49/100\n",
      "250/250 [==============================] - 2s 6ms/step - loss: 0.1043 - accuracy: 0.8606\n",
      "Epoch 50/100\n",
      "250/250 [==============================] - 1s 6ms/step - loss: 0.1040 - accuracy: 0.8615\n",
      "Epoch 51/100\n",
      "250/250 [==============================] - 1s 6ms/step - loss: 0.1039 - accuracy: 0.8611\n",
      "Epoch 52/100\n",
      "250/250 [==============================] - 1s 6ms/step - loss: 0.1039 - accuracy: 0.8610\n",
      "Epoch 53/100\n",
      "250/250 [==============================] - 2s 7ms/step - loss: 0.1040 - accuracy: 0.8599\n",
      "Epoch 54/100\n",
      "250/250 [==============================] - 2s 7ms/step - loss: 0.1035 - accuracy: 0.8626\n",
      "Epoch 55/100\n",
      "250/250 [==============================] - 2s 7ms/step - loss: 0.1036 - accuracy: 0.8626\n",
      "Epoch 56/100\n",
      "250/250 [==============================] - 2s 6ms/step - loss: 0.1035 - accuracy: 0.8615\n",
      "Epoch 57/100\n",
      "250/250 [==============================] - 2s 6ms/step - loss: 0.1033 - accuracy: 0.8614\n",
      "Epoch 58/100\n",
      "250/250 [==============================] - 2s 7ms/step - loss: 0.1035 - accuracy: 0.8618\n",
      "Epoch 59/100\n",
      "250/250 [==============================] - 1s 6ms/step - loss: 0.1031 - accuracy: 0.8629\n",
      "Epoch 60/100\n",
      "250/250 [==============================] - 2s 6ms/step - loss: 0.1031 - accuracy: 0.8618\n",
      "Epoch 61/100\n",
      "250/250 [==============================] - 2s 6ms/step - loss: 0.1030 - accuracy: 0.8635\n",
      "Epoch 62/100\n",
      "250/250 [==============================] - 2s 6ms/step - loss: 0.1029 - accuracy: 0.8636\n",
      "Epoch 63/100\n",
      "250/250 [==============================] - 2s 6ms/step - loss: 0.1028 - accuracy: 0.8625\n",
      "Epoch 64/100\n",
      "250/250 [==============================] - 2s 6ms/step - loss: 0.1025 - accuracy: 0.8622\n",
      "Epoch 65/100\n",
      "250/250 [==============================] - 2s 6ms/step - loss: 0.1027 - accuracy: 0.8633\n",
      "Epoch 66/100\n",
      "250/250 [==============================] - 2s 7ms/step - loss: 0.1027 - accuracy: 0.8643\n",
      "Epoch 67/100\n",
      "250/250 [==============================] - 2s 7ms/step - loss: 0.1028 - accuracy: 0.8631\n",
      "Epoch 68/100\n",
      "250/250 [==============================] - 2s 6ms/step - loss: 0.1023 - accuracy: 0.8659\n",
      "Epoch 69/100\n",
      "250/250 [==============================] - 2s 6ms/step - loss: 0.1023 - accuracy: 0.8636\n",
      "Epoch 70/100\n",
      "250/250 [==============================] - 2s 6ms/step - loss: 0.1024 - accuracy: 0.8649\n",
      "Epoch 71/100\n",
      "250/250 [==============================] - 2s 7ms/step - loss: 0.1024 - accuracy: 0.8651\n",
      "Epoch 72/100\n",
      "250/250 [==============================] - 2s 7ms/step - loss: 0.1019 - accuracy: 0.8635\n",
      "Epoch 73/100\n",
      "250/250 [==============================] - 2s 6ms/step - loss: 0.1022 - accuracy: 0.8630\n",
      "Epoch 74/100\n",
      "250/250 [==============================] - 1s 6ms/step - loss: 0.1020 - accuracy: 0.8646\n",
      "Epoch 75/100\n",
      "250/250 [==============================] - 1s 5ms/step - loss: 0.1021 - accuracy: 0.8651\n",
      "Epoch 76/100\n",
      "250/250 [==============================] - 1s 6ms/step - loss: 0.1021 - accuracy: 0.8629\n",
      "Epoch 77/100\n",
      "250/250 [==============================] - 2s 7ms/step - loss: 0.1020 - accuracy: 0.8630\n",
      "Epoch 78/100\n",
      "250/250 [==============================] - 2s 6ms/step - loss: 0.1019 - accuracy: 0.8625\n",
      "Epoch 79/100\n",
      "250/250 [==============================] - 1s 6ms/step - loss: 0.1020 - accuracy: 0.8648\n",
      "Epoch 80/100\n",
      "250/250 [==============================] - 1s 6ms/step - loss: 0.1017 - accuracy: 0.8661\n",
      "Epoch 81/100\n"
     ]
    },
    {
     "name": "stdout",
     "output_type": "stream",
     "text": [
      "250/250 [==============================] - 1s 6ms/step - loss: 0.1017 - accuracy: 0.8650\n",
      "Epoch 82/100\n",
      "250/250 [==============================] - 1s 6ms/step - loss: 0.1018 - accuracy: 0.8625\n",
      "Epoch 83/100\n",
      "250/250 [==============================] - 1s 5ms/step - loss: 0.1018 - accuracy: 0.8634\n",
      "Epoch 84/100\n",
      "250/250 [==============================] - 1s 5ms/step - loss: 0.1017 - accuracy: 0.8648\n",
      "Epoch 85/100\n",
      "250/250 [==============================] - 1s 5ms/step - loss: 0.1017 - accuracy: 0.8651\n",
      "Epoch 86/100\n",
      "250/250 [==============================] - 1s 5ms/step - loss: 0.1017 - accuracy: 0.8639\n",
      "Epoch 87/100\n",
      "250/250 [==============================] - 1s 5ms/step - loss: 0.1015 - accuracy: 0.8652\n",
      "Epoch 88/100\n",
      "250/250 [==============================] - 1s 5ms/step - loss: 0.1016 - accuracy: 0.8654\n",
      "Epoch 89/100\n",
      "250/250 [==============================] - 1s 5ms/step - loss: 0.1013 - accuracy: 0.8660\n",
      "Epoch 90/100\n",
      "250/250 [==============================] - 1s 6ms/step - loss: 0.1013 - accuracy: 0.8648\n",
      "Epoch 91/100\n",
      "250/250 [==============================] - 1s 6ms/step - loss: 0.1013 - accuracy: 0.8646\n",
      "Epoch 92/100\n",
      "250/250 [==============================] - 2s 7ms/step - loss: 0.1016 - accuracy: 0.8659\n",
      "Epoch 93/100\n",
      "250/250 [==============================] - 2s 7ms/step - loss: 0.1014 - accuracy: 0.8669\n",
      "Epoch 94/100\n",
      "250/250 [==============================] - 2s 7ms/step - loss: 0.1013 - accuracy: 0.8669\n",
      "Epoch 95/100\n",
      "250/250 [==============================] - 2s 7ms/step - loss: 0.1012 - accuracy: 0.8660\n",
      "Epoch 96/100\n",
      "250/250 [==============================] - 2s 7ms/step - loss: 0.1013 - accuracy: 0.8649\n",
      "Epoch 97/100\n",
      "250/250 [==============================] - 2s 6ms/step - loss: 0.1012 - accuracy: 0.8666\n",
      "Epoch 98/100\n",
      "250/250 [==============================] - 1s 5ms/step - loss: 0.1011 - accuracy: 0.8659\n",
      "Epoch 99/100\n",
      "250/250 [==============================] - 1s 5ms/step - loss: 0.1009 - accuracy: 0.8671\n",
      "Epoch 100/100\n",
      "250/250 [==============================] - 1s 5ms/step - loss: 0.1010 - accuracy: 0.8650\n"
     ]
    },
    {
     "data": {
      "text/plain": [
       "<keras.callbacks.History at 0x23ebc297370>"
      ]
     },
     "execution_count": 24,
     "metadata": {},
     "output_type": "execute_result"
    }
   ],
   "source": [
    "model = keras.Sequential([keras.layers.Dense(20, input_shape=(12,), activation = 'relu'),\n",
    "                          keras.layers.Dense(1, activation = 'sigmoid'),\n",
    "                         ])\n",
    "\n",
    "\n",
    "model.compile(optimizer = 'adam',\n",
    "             loss = 'mean_squared_error',\n",
    "             metrics = ['accuracy'])\n",
    "\n",
    "model.fit(X_train, Y_train, epochs = 100)"
   ]
  },
  {
   "cell_type": "code",
   "execution_count": 32,
   "id": "46753d2a",
   "metadata": {},
   "outputs": [
    {
     "name": "stdout",
     "output_type": "stream",
     "text": [
      "63/63 [==============================] - 0s 7ms/step - loss: 0.1089 - accuracy: 0.8510\n"
     ]
    },
    {
     "data": {
      "text/plain": [
       "[0.1089058518409729, 0.8510000109672546]"
      ]
     },
     "execution_count": 32,
     "metadata": {},
     "output_type": "execute_result"
    }
   ],
   "source": [
    "model.evaluate(X_test, Y_test)"
   ]
  },
  {
   "cell_type": "code",
   "execution_count": 33,
   "id": "349f4bdd",
   "metadata": {},
   "outputs": [
    {
     "data": {
      "text/plain": [
       "array([[0.05503627],\n",
       "       [0.08958638],\n",
       "       [0.07900487],\n",
       "       [0.07436389],\n",
       "       [0.0805361 ],\n",
       "       [0.11722503],\n",
       "       [0.01942836],\n",
       "       [0.390349  ],\n",
       "       [0.0182497 ],\n",
       "       [0.9494832 ],\n",
       "       [0.0291584 ],\n",
       "       [0.04621696],\n",
       "       [0.01795242],\n",
       "       [0.68339205],\n",
       "       [0.03658224],\n",
       "       [0.04602353],\n",
       "       [0.5440206 ],\n",
       "       [0.1531081 ],\n",
       "       [0.049528  ],\n",
       "       [0.16034558],\n",
       "       [0.01358465],\n",
       "       [0.08677825],\n",
       "       [0.01211936],\n",
       "       [0.07383154],\n",
       "       [0.38497645],\n",
       "       [0.07956879],\n",
       "       [0.5818217 ],\n",
       "       [0.2782031 ],\n",
       "       [0.0074918 ],\n",
       "       [0.05194543],\n",
       "       [0.23225865],\n",
       "       [0.1859352 ],\n",
       "       [0.21143143],\n",
       "       [0.8760621 ],\n",
       "       [0.09408019],\n",
       "       [0.0749309 ],\n",
       "       [0.0029799 ],\n",
       "       [0.03752731],\n",
       "       [0.09523494],\n",
       "       [0.08762636],\n",
       "       [0.36328655],\n",
       "       [0.10431132],\n",
       "       [0.08152786],\n",
       "       [0.01418948],\n",
       "       [0.39473408],\n",
       "       [0.10040738],\n",
       "       [0.11698448],\n",
       "       [0.03431839],\n",
       "       [0.44149885],\n",
       "       [0.02839597],\n",
       "       [0.24113092],\n",
       "       [0.15553243],\n",
       "       [0.0551159 ],\n",
       "       [0.42200488],\n",
       "       [0.50796396],\n",
       "       [0.25718653],\n",
       "       [0.60192597],\n",
       "       [0.00321283],\n",
       "       [0.5878679 ],\n",
       "       [0.23103899],\n",
       "       [0.07670581],\n",
       "       [0.07076064],\n",
       "       [0.21780246],\n",
       "       [0.17463699],\n",
       "       [0.11284468],\n",
       "       [0.20926733],\n",
       "       [0.4633305 ],\n",
       "       [0.02387125],\n",
       "       [0.14653288],\n",
       "       [0.50556207],\n",
       "       [0.0149093 ],\n",
       "       [0.0065019 ],\n",
       "       [0.15857878],\n",
       "       [0.02513418],\n",
       "       [0.0799543 ],\n",
       "       [0.9991635 ],\n",
       "       [0.6269474 ],\n",
       "       [0.03094872],\n",
       "       [0.01650239],\n",
       "       [0.16115749],\n",
       "       [0.01073517],\n",
       "       [0.02729681],\n",
       "       [0.02615552],\n",
       "       [0.00868344],\n",
       "       [0.10195545],\n",
       "       [0.5451342 ],\n",
       "       [0.00599924],\n",
       "       [0.02474668],\n",
       "       [0.04520499],\n",
       "       [0.01190287],\n",
       "       [0.84477293],\n",
       "       [0.05027996],\n",
       "       [0.01875415],\n",
       "       [0.09293907],\n",
       "       [0.15830785],\n",
       "       [0.7230302 ],\n",
       "       [0.40602612],\n",
       "       [0.15090881],\n",
       "       [0.07541507],\n",
       "       [0.02779294]], dtype=float32)"
      ]
     },
     "execution_count": 33,
     "metadata": {},
     "output_type": "execute_result"
    }
   ],
   "source": [
    "yp = model.predict(X_test)\n",
    "yp[:100]"
   ]
  },
  {
   "cell_type": "code",
   "execution_count": 34,
   "id": "aaecf0ee",
   "metadata": {},
   "outputs": [
    {
     "data": {
      "text/plain": [
       "7054    0\n",
       "442     0\n",
       "3954    0\n",
       "2288    0\n",
       "3196    0\n",
       "       ..\n",
       "3370    1\n",
       "6166    0\n",
       "4653    1\n",
       "5759    0\n",
       "425     0\n",
       "Name: Exited, Length: 100, dtype: int64"
      ]
     },
     "execution_count": 34,
     "metadata": {},
     "output_type": "execute_result"
    }
   ],
   "source": [
    "Y_test[:100]"
   ]
  },
  {
   "cell_type": "code",
   "execution_count": 35,
   "id": "f0304af6",
   "metadata": {},
   "outputs": [],
   "source": [
    "y_pred = []\n",
    "for element in yp:\n",
    "    if element>0.5:\n",
    "        y_pred.append(1)\n",
    "    else:\n",
    "        y_pred.append(0)"
   ]
  },
  {
   "cell_type": "code",
   "execution_count": 36,
   "id": "b5720383",
   "metadata": {},
   "outputs": [
    {
     "data": {
      "text/plain": [
       "[0,\n",
       " 0,\n",
       " 0,\n",
       " 0,\n",
       " 0,\n",
       " 0,\n",
       " 0,\n",
       " 0,\n",
       " 0,\n",
       " 1,\n",
       " 0,\n",
       " 0,\n",
       " 0,\n",
       " 1,\n",
       " 0,\n",
       " 0,\n",
       " 1,\n",
       " 0,\n",
       " 0,\n",
       " 0,\n",
       " 0,\n",
       " 0,\n",
       " 0,\n",
       " 0,\n",
       " 0,\n",
       " 0,\n",
       " 1,\n",
       " 0,\n",
       " 0,\n",
       " 0,\n",
       " 0,\n",
       " 0,\n",
       " 0,\n",
       " 1,\n",
       " 0,\n",
       " 0,\n",
       " 0,\n",
       " 0,\n",
       " 0,\n",
       " 0,\n",
       " 0,\n",
       " 0,\n",
       " 0,\n",
       " 0,\n",
       " 0,\n",
       " 0,\n",
       " 0,\n",
       " 0,\n",
       " 0,\n",
       " 0,\n",
       " 0,\n",
       " 0,\n",
       " 0,\n",
       " 0,\n",
       " 1,\n",
       " 0,\n",
       " 1,\n",
       " 0,\n",
       " 1,\n",
       " 0,\n",
       " 0,\n",
       " 0,\n",
       " 0,\n",
       " 0,\n",
       " 0,\n",
       " 0,\n",
       " 0,\n",
       " 0,\n",
       " 0,\n",
       " 1,\n",
       " 0,\n",
       " 0,\n",
       " 0,\n",
       " 0,\n",
       " 0,\n",
       " 1,\n",
       " 1,\n",
       " 0,\n",
       " 0,\n",
       " 0,\n",
       " 0,\n",
       " 0,\n",
       " 0,\n",
       " 0,\n",
       " 0,\n",
       " 1,\n",
       " 0,\n",
       " 0,\n",
       " 0,\n",
       " 0,\n",
       " 1,\n",
       " 0,\n",
       " 0,\n",
       " 0,\n",
       " 0,\n",
       " 1,\n",
       " 0,\n",
       " 0,\n",
       " 0,\n",
       " 0]"
      ]
     },
     "execution_count": 36,
     "metadata": {},
     "output_type": "execute_result"
    }
   ],
   "source": [
    "y_pred[:100]"
   ]
  },
  {
   "cell_type": "code",
   "execution_count": 30,
   "id": "dbb0931f",
   "metadata": {},
   "outputs": [
    {
     "name": "stdout",
     "output_type": "stream",
     "text": [
      "              precision    recall  f1-score   support\n",
      "\n",
      "           0       0.88      0.94      0.91      1595\n",
      "           1       0.68      0.49      0.57       405\n",
      "\n",
      "    accuracy                           0.85      2000\n",
      "   macro avg       0.78      0.72      0.74      2000\n",
      "weighted avg       0.84      0.85      0.84      2000\n",
      "\n"
     ]
    }
   ],
   "source": [
    "from sklearn.metrics import confusion_matrix, classification_report\n",
    "print(classification_report(Y_test, y_pred))"
   ]
  },
  {
   "cell_type": "code",
   "execution_count": 31,
   "id": "9952d127",
   "metadata": {},
   "outputs": [
    {
     "data": {
      "text/plain": [
       "Text(69.0, 0.5, 'Truth')"
      ]
     },
     "execution_count": 31,
     "metadata": {},
     "output_type": "execute_result"
    },
    {
     "data": {
      "image/png": "[encoded data removed]",
      "text/plain": [
       "<Figure size 720x504 with 2 Axes>"
      ]
     },
     "metadata": {
      "needs_background": "light"
     },
     "output_type": "display_data"
    }
   ],
   "source": [
    "import seaborn as sn\n",
    "cm = tf.math.confusion_matrix(labels = Y_test, predictions = y_pred)\n",
    "\n",
    "plt.figure(figsize = (10,7))\n",
    "sn.heatmap(cm, annot = True, fmt = 'd')\n",
    "plt.xlabel('Predicted')\n",
    "plt.ylabel('Truth')\n"
   ]
  },
  {
   "cell_type": "code",
   "execution_count": null,
   "id": "b20c1845",
   "metadata": {},
   "outputs": [],
   "source": []
  }
 ],
 "metadata": {
  "kernelspec": {
   "display_name": "Python 3 (ipykernel)",
   "language": "python",
   "name": "python3"
  },
  "language_info": {
   "codemirror_mode": {
    "name": "ipython",
    "version": 3
   },
   "file_extension": ".py",
   "mimetype": "text/x-python",
   "name": "python",
   "nbconvert_exporter": "python",
   "pygments_lexer": "ipython3",
   "version": "3.9.2"
  }
 },
 "nbformat": 4,
 "nbformat_minor": 5
}
